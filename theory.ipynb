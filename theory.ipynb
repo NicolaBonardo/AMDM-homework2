{
 "cells": [
  {
   "cell_type": "markdown",
   "metadata": {},
   "source": [
    "# Algorithmic Methods of Data Mining - 2019/2020\n",
    "## Homework 2 - Nicola Bonardo\n",
    "\n",
    "## Theoretical exercise"
   ]
  },
  {
   "cell_type": "markdown",
   "metadata": {},
   "source": [
    "# Overall effect of the algorithm\n",
    "\n",
    "The description of the algorithm can be better understood if the **overall** effect of the algorithm is first described: the function *splitSwap(a, l, n)* takes an array *a* and **reverses** the sub-array a[l: l+n], that is the part of the array going from the index *l* to the index *l+n* (excluded).\n",
    "\n",
    "We can easily verify the overall effect calling the function *splitSwap* on an example array of length 16, with arguments *l*=3 (index of the beginning of the part to reverse) and *n*=8 (length of the part to reverse). Please note that for the sake of simplicity, *len(a)* and *n* will be powers of 2, and that to avoid OutOfRange exception it must be true that **l + n <= len(a)**. \n"
   ]
  },
  {
   "cell_type": "code",
   "execution_count": 18,
   "metadata": {},
   "outputs": [],
   "source": [
    "def splitSwap(a, l, n):    \n",
    "    if n <= 1:\n",
    "        return    \n",
    "    splitSwap(a, l, n//2)    \n",
    "    splitSwap(a, l + n //2, n//2)\n",
    "    swapList(a, l, n)\n",
    "    \n",
    "def swapList(a, l, n):    \n",
    "    for i in range(n//2): #for i = 0 to n/2:    \n",
    "        tmp = a[l + i]\n",
    "        a[l + i] = a[l + n//2 + i]\n",
    "        a[l + n//2 + i] = tmp        "
   ]
  },
  {
   "cell_type": "code",
   "execution_count": 29,
   "metadata": {},
   "outputs": [
    {
     "name": "stdout",
     "output_type": "stream",
     "text": [
      "Initial array: [0, 1, 2, 3, 4, 5, 6, 7, 8, 9, 10, 11, 12, 13, 14, 15]\n",
      "Final array:   [0, 1, 2, 10, 9, 8, 7, 6, 5, 4, 3, 11, 12, 13, 14, 15]\n"
     ]
    }
   ],
   "source": [
    "a = [i for i in range(16)]\n",
    "print(\"Initial array:\", a)\n",
    "splitSwap(a, 3, 8)\n",
    "print(\"Final array:  \", a)"
   ]
  },
  {
   "cell_type": "markdown",
   "metadata": {},
   "source": [
    "We can see that the effect of the function *splitSwap(a, 3, 8)* has been the reversal of the sub-array [3,4,5,6,7,8,9,10]."
   ]
  },
  {
   "cell_type": "markdown",
   "metadata": {},
   "source": [
    "# Description of the algorithm\n",
    "\n",
    "Now we can describe the mechanism of the algorithm. The algorithm is recursive: the function *splitSwap* consists of 4 steps:\n",
    "* first of all, it checks if the length *n* is lower than 2: in that case, it returns to the caller. In fact, if the part to reverse has a length of 1, nothing more has to be reversed;\n",
    "* then the function *splitSwap* itself is called twice: in both cases the length of the part to reverse is divided by 2; the two calls differ on the index of the starting point - *l* in the first case, *l+n/2* in the second one; according to the effect of the function, the effect of these 2 calls is that the two halves of the part to reverse are reversed **separately from each other**;\n",
    "* the fourth and last step is the call of the subroutine *swapList*. This subroutine takes the same arguments of its caller, *splitSwap*: an array *a*, an index *l* and a length *n*; its effect is to consider the sub-array stsrting from index *l* and of length *n*, **to divide it into 2 halves and to swap them**. \n",
    "\n",
    "The overall behaviour of the algorithm can therefore be described in this way: when the function *splitSwap* acts on a given array *a*, it takes the part of the array going from the index *l* and of length *n*, divides this subarray into 2 parts, then it separately reverses the 2 parts and then, finally, the two reversed parts are swapped. The reversal of the 2 halves is made recursively: each one is divided into 2 halves, that are separately reversed and the swapped, and so on.\n"
   ]
  },
  {
   "cell_type": "markdown",
   "metadata": {},
   "source": [
    "# Running time\n",
    "\n",
    "The function swapList is an iteration, from 0 to *n/2*. Each cycle executes 3 operations of order 1, so the overall order of swapList(n) is Theta(n/2).\n",
    "\n",
    "The function splitSwap calls itself recursively twice, with argument *n* going to *n/2*, and then executes swapList(n).\n",
    "We can write:\n",
    "T(n) = c_1 + T(n/2) + T(n/2) + Theta(n/2) = c_1 + 2T(n/2) + Theta(n/2). \n",
    "\n",
    "So the overall order (dropping all of the constant terms) for splitSwap(n) is **Theta(nlog(n))**.\n",
    "\n",
    "Is is **not** the optimal method to achieve the desired result: in fact a reversal of a subarray of length *n* can be obtained by a single for cycle, and in that case the order would be Theta(n)."
   ]
  },
  {
   "cell_type": "code",
   "execution_count": null,
   "metadata": {},
   "outputs": [],
   "source": []
  }
 ],
 "metadata": {
  "kernelspec": {
   "display_name": "Python 3",
   "language": "python",
   "name": "python3"
  },
  "language_info": {
   "codemirror_mode": {
    "name": "ipython",
    "version": 3
   },
   "file_extension": ".py",
   "mimetype": "text/x-python",
   "name": "python",
   "nbconvert_exporter": "python",
   "pygments_lexer": "ipython3",
   "version": "3.7.3"
  }
 },
 "nbformat": 4,
 "nbformat_minor": 2
}
